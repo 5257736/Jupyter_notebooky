{
 "cells": [
  {
   "cell_type": "markdown",
   "id": "62e65b16",
   "metadata": {},
   "source": [
    "**Autor:** Dagmara Lopatková   \n",
    "***\n",
    "**<font size=6 color=blueviolet> Víťazné sety </font>**  \n",
    "\n",
    "<font size=5>  </font> \n",
    "\n",
    "--- \n",
    "<a id=table_of_contents></a>\n",
    "###  Obsah\n",
    "* [Úvod](#úvod) - Pravidlá tenisu\n",
    "* [Dva víťazné sety](#Dva_vitazne_sety)- Vzorový príklad; Náš príklad  \n",
    "* [Tri víťazné sety](#Tri_vitazne_sety) - Vzorový príklad; Náš príklad\n",
    "* [Záver](#Záver) - Zhodnotenie celej problematiky\n",
    "* [Zdroje](#Zdroje) - Zoznam použitej literatúry\n",
    "\n"
   ]
  },
  {
   "cell_type": "markdown",
   "id": "efb6d80a",
   "metadata": {},
   "source": [
    "***\n",
    "<a id=úvod></a>\n",
    "# <font color=blueviolet> Úvod </font>\n",
    "\n",
    "\n",
    "### Pravidlá tenisu\n",
    "\n",
    "Hracia plocha môže byť vyrobená z trávy, tvrdého povrchu alebo zeminy. Hracia plocha má tvar obdĺžnika s dĺžkou 23,77 metrov a šírkou 8,23 metrov pre hru dvojíc. Pre hru jednotlivcov je šírka hracej plochy o niečo užšia. Hra sa začína podaním. Hráč musí stáť za základnou čiarou a loptu musí podať do protihráčovej polovice. Loptu nemožno podať do siete alebo mimo hracej plochy. Ak sa lopta dotkne siete, je to tzv. **let** a hráč si musí podanie zopakovať. Hráč má dve možnosti podania, ak sa mu nepodarí podať loptu do protihráčovej polovice, musí si podanie zopakovať. Úder na zemi sa vykonáva vtedy, ak lopta dopadne na zem a potom hráč udrie. Hráč môže urobiť akýkoľvek úder, ktorý chce. Základná čiara je tá čiara, kde hráč musí stáť, keď podáva podanie. Taktiež, keď sa hráč nachádza na opačnej strane hracej plochy a čaká na loptu, nemôže prekročiť základnú čiaru.\n",
    "\n",
    "Hráči získavajú body, keď nie sú jeho súperi schopní vrátiť loptu na jeho stranu hracej plochy. Hra sa delí na sety. V ženskom tenise sa hrá na dva víťazné sety. V mužskom na tri víťazné sety. Pre obe pohlavia platí, že hráč vyhráva set vtedy, keď má 6 bodov. Ak hráči majú rovnaký počet bodov, musí jeden z nich získať minimálne dva body náskok."
   ]
  },
  {
   "cell_type": "markdown",
   "id": "110cfeff",
   "metadata": {},
   "source": [
    "***\n",
    "<a id=Dva_vitazne_sety></a>\n",
    "# <font color=blueviolet> Dva víťazné sety </font>\n",
    "\n",
    "\n",
    "### Vzorový príklad\n",
    "\n",
    "Zreprodukujeme si autorov \\citep{Andel} príklad. Samozrejme, ak hovoríme o dvoch víťazných setoch, tak myslíme tým ženský tenis. Pravdepodobnosť, že hráč $A$ vyhrá set ozn. $p$. Pravdepodobnosť, že hráč $B$ vyhrá set je $q=1-p$. Predpokladá sa nezávislosť setov a tiež sa pravdepodobnosti v priebehu hry nemenia. Zavedieme si pravdepodobnosť, že na stretnutí $m$ hracích setov bude odohraných konečne $k$ setov: $R_{m,k}(p)$. V našom prípade je to $m=2$. Vieme, že platí: $$R_{2,2}(p)=p^2+q^2$$ $$R_{2,3}(p)=2pq$$ \n",
    "\n",
    "Najprv autor predpokladal, že $p=0,5  (q=0,5)$. Po dosadení do vyššie uvedených vzťahov dostaneme pravdepodobnosti $p_i=R_{2,i}(0,5)$. Následne z toho vieme zistiť pomocou vzťahu $np_i$ teoretické početnosti, kde $n$ predstavuje počet skúmaných autorových zápasov. Pravdepodobnosti $\\hat{p_i}$ získal jednoduchým výpočtom, kde dal do pomeru početnosť $n_i$ ku celkovému počtu skúmaných setov. Teoretické početnosti získal nasledujúcim vzťahom: $n\\hat{p_i}$. Môžeme to vidieť kompletne v Tab.1."
   ]
  },
  {
   "attachments": {
    "image.png": {
     "image/png": "[encoded data removed]"
    }
   },
   "cell_type": "markdown",
   "id": "57ad3fb9",
   "metadata": {},
   "source": [
    "![image.png](attachment:image.png)"
   ]
  },
  {
   "cell_type": "markdown",
   "id": "684f9e37",
   "metadata": {},
   "source": [
    "$$\\text{Tab. 1: Dvojhra žien}$$"
   ]
  },
  {
   "cell_type": "markdown",
   "id": "dd12928a",
   "metadata": {},
   "source": [
    "Autor sa snažil zistiť, aká je pravdepodobnosť ($p$) víťazstva setu silnejšej hráčky v zápase. Použil na to tri metódy, aby ukázal, aká je hľadaná pravdepodobnosť, či je to 50 \\%, alebo je to inak. Každá jedna bola založená na inom prístupe. "
   ]
  },
  {
   "cell_type": "markdown",
   "id": "150995ba",
   "metadata": {},
   "source": [
    "#### 1. metóda\n",
    "\n",
    "Najprv predpokladal, že pravdepodobnosť víťazstva setu hráčok je $p=0,5$ a $q=0,5$. Overil si svoj predpoklad na chi-kvadrát teste, čo považujeme za prvú metódu riešenia problému. "
   ]
  },
  {
   "cell_type": "code",
   "execution_count": 1,
   "id": "8e5008dd",
   "metadata": {},
   "outputs": [
    {
     "data": {
      "text/plain": [
       "\n",
       "\tChi-squared test for given probabilities\n",
       "\n",
       "data:  sety\n",
       "X-squared = 20.253, df = 1, p-value = 6.785e-06\n"
      ]
     },
     "metadata": {},
     "output_type": "display_data"
    }
   ],
   "source": [
    "sety<-c(62,21)\n",
    "pst<-c(0.5,0.5)\n",
    "chisq.test(sety,p=pst)"
   ]
  },
  {
   "cell_type": "markdown",
   "id": "81073cb4",
   "metadata": {},
   "source": [
    "Vzhľadom na $p-hodnotu=6,785e^{-6}$ zamietame hypotézu, žeby sa zápasy mohli riadiť autorovým modelom (1. metódou). Takže pravdepodobnosť víťazstva setu hráčok nie je $p=q=0,5$."
   ]
  },
  {
   "cell_type": "markdown",
   "id": "fd6f1014",
   "metadata": {},
   "source": [
    "#### 2. metóda\n",
    "\n",
    "V tejto metóde využil autor **vierohodnostnú funkciu**, ktorá pochádza z **multinomického rozdelenia**. Vierohodnostná funkcia má tvar: $$f(n_1,n_2;p)=\\frac{n!}{n_1!n_2!}[R_{2,2}(p)]^{n_1}[R_{2,3}(p)]^{n_2},$$ jej logaritmus je $$L(p)=\\ln f(n_1,n_2;p)=\\ln \\frac{n!}{n_1!n_2!}+n_1\\ln [R_{2,2}(p)]+n_2\\ln [R_{2,3}(p)].$$ Za $[R_{2,2}(p)]^{n_1}$ dosadíme $R_{2,2}(p)=p^2+q^2$ a za $[R_{2,3}(p)]^{n_2}=2pq$. Derivovaním už zlogaritmovanej funkcie a úpravami výrazu dostaneme vzťah: $$L´(p)=n_1\\frac{4p-2}{1-2p+2p^2}-n_2\\frac{4p-2}{2p-2p^2}.$$ Ak položíme $L´(p)=0$ jedno z riešení je $\\hat{p_3}=\\frac{1}{2}$, čo predstavuje lokálne minimum danej funkcie a my hľadáme maximum. Čiže $\\hat{p_3}=\\frac{1}{2}$ nepokladáme za riešenie. Preto funkciu $L´(p)=0$ upravíme na tvar: $$p^2-p+\\frac{n_2}{2(n_1+n_2)}=0.$$ Koreňmi funkcie sú: $$\\hat{p_{1,2}}=\\frac{1}{2}\\pm\\sqrt{\\frac{n_1-n_2}{n_1+n_2}}.$$ Po dosadení získame $\\hat{p_1}=p=0,851417$ a $\\hat{p_2}=q=0,148583$. \n",
    "\n",
    "Tento výsledok vieme získať aj v $R-studio$, pomocou nasledujúcich príkazov:"
   ]
  },
  {
   "cell_type": "code",
   "execution_count": 4,
   "id": "2f1cfeab",
   "metadata": {},
   "outputs": [
    {
     "data": {
      "text/html": [
       "<dl>\n",
       "\t<dt>$maximum</dt>\n",
       "\t\t<dd>0.851409287716978</dd>\n",
       "\t<dt>$objective</dt>\n",
       "\t\t<dd>-46.9464674085869</dd>\n",
       "</dl>\n"
      ],
      "text/latex": [
       "\\begin{description}\n",
       "\\item[\\$maximum] 0.851409287716978\n",
       "\\item[\\$objective] -46.9464674085869\n",
       "\\end{description}\n"
      ],
      "text/markdown": [
       "$maximum\n",
       ":   0.851409287716978\n",
       "$objective\n",
       ":   -46.9464674085869\n",
       "\n",
       "\n"
      ],
      "text/plain": [
       "$maximum\n",
       "[1] 0.8514093\n",
       "\n",
       "$objective\n",
       "[1] -46.94647\n"
      ]
     },
     "metadata": {},
     "output_type": "display_data"
    }
   ],
   "source": [
    "h<-function(x) 62*log(x^2+(1-x)^2)+21*log(2*x*(1-x))\n",
    "optimize(h,c(0,1),maximum=TRUE)"
   ]
  },
  {
   "cell_type": "markdown",
   "id": "99c320cb",
   "metadata": {},
   "source": [
    "Vyšlo maximum rovné $p=max=0,8514093$. Zhoduje sa s výsledkom, ktorý sme získali pomocou výpočtu. Vieme povedať, že $q=1-p=1-0,8514=0,1486$. Novovypočítané $p$ a $q$ dosadíme do rovníc na výpočet pravdepodobnosti, že pri zápase na dva víťazné sety sa odohrajú 2 sety $R_{2,2}(p)$ a tiež pravdepodobnosť, že pri zápase na dva víťazné sety sa odohrajú 3 sety $R_{2,3}(p)$.\n",
    "\n",
    "Výpočet: $$R_{2,2}(p)=0,8514^2+0,1486^2=0,747$$ $$R_{2,3}(p)=2\\cdot0,8514\\cdot0,1486=0,253$$ Ako môžeme vidieť výpočty sa zhodujú s výpočtami v piatom stĺpci v Tab.1. Takže daná metóda je vhodná na zistenie parametru $p$ (pravdepodobnosti víťazstva silnejšej hráčky)."
   ]
  },
  {
   "cell_type": "markdown",
   "id": "13e8660f",
   "metadata": {},
   "source": [
    "#### 3. metóda\n",
    "\n",
    "Ako tretiu metódu autor použil **momentovú metódu**. Tou sa opäť pokúsil odhadnúť parameter $p$. Zaviedol novú nahodnú veličinu $U$, ktorá udáva počet odohraných zápasov. Strednú hodnotu náhodnej veličiny $U$ určíme: $$\\mathrm{E}(U)=2(1+pq).$$\n",
    "\n",
    "Následne vypočítal priemerný počet odohraných setov: $$\\bar{U}=\\frac{2\\cdot62+3\\cdot21}{83}=2,253$$ Vzťah pre strednú hodnotu upravíme do tvaru: $\\mathrm{E}(U)=2[1+p(1-p)]=2(1+p-p^2).$ Odpad pre parameter $p$ získame z rovnice $\\mathrm{E}(U)=\\bar{U}$, teda dostaneme rovnicu: $$2,253=2(1+p-p^2)\\Rightarrow p^2-p+\\frac{2,253}{2}-1=0\\Rightarrow p^2-p+0,1265=0.$$ Riešením kvadratickej rovnice je $\\hat{p_1}=p=0,851417$ a $\\hat{p_2}=q=0,148583$. \n",
    "\n",
    "Opäť dosadíme $\\hat{p_1}=p=0,851417$ a $\\hat{p_2}=q=0,148583$ do $R_{2,2}(p)$ a $R_{2,3}(p).$ Získame hodnoty, ako sú v piatom stĺpci v Tab.1. Daná metóda je tiež vhodná na zistenie parametru $p$ (pravdepodobnosti víťazstva silnejšej hráčky). "
   ]
  },
  {
   "cell_type": "markdown",
   "id": "b0ce208d",
   "metadata": {},
   "source": [
    "***\n",
    "### Náš príklad\n",
    "\n",
    "Ako bolo v úvode kapitoly spomenuté, my sme analyzovali dáta z Wimbledonu 2022. Postupovali sme podobne ako vo vzorovom príklade. Vytvorili sme podobnú Tab.2 ako bola Tab.1. Nám sa podarilo zoznať dáta z viacerých zápasov ako bolo vo vzorovom príklade. Stále platia vzťahy, ktoré boli spomenuté už na začiatku vzorového príkladu: $R_{2,2}(p)=p^2+q^2$ a $R_{2,3}(p)=2pq.$ "
   ]
  },
  {
   "attachments": {
    "image.png": {
     "image/png": "[encoded data removed]"
    }
   },
   "cell_type": "markdown",
   "id": "a4c9d90f",
   "metadata": {},
   "source": [
    "![image.png](attachment:image.png)"
   ]
  },
  {
   "cell_type": "markdown",
   "id": "57c1db9d",
   "metadata": {},
   "source": [
    "$$\\text{Tab. 2: Dvojhra žien (Wimbledon 2022)}$$"
   ]
  },
  {
   "cell_type": "markdown",
   "id": "30d092b5",
   "metadata": {},
   "source": [
    "#### 1. metóda\n",
    "\n",
    "Opäť sme na začiatku predpokladali, že pravdepodobnosť víťazstva setu hráčok je rovnaká $p=q=0,5$. Overili sme to chi-kvadrát testom:"
   ]
  },
  {
   "cell_type": "code",
   "execution_count": 5,
   "id": "a304062c",
   "metadata": {},
   "outputs": [
    {
     "data": {
      "text/plain": [
       "\n",
       "\tChi-squared test for given probabilities\n",
       "\n",
       "data:  sety\n",
       "X-squared = 51.66, df = 1, p-value = 6.598e-13\n"
      ]
     },
     "metadata": {},
     "output_type": "display_data"
    }
   ],
   "source": [
    "sety<-c(90,16)\n",
    "pst<-c(0.5,0.5)\n",
    "chisq.test(sety,p=pst)"
   ]
  },
  {
   "cell_type": "markdown",
   "id": "ecce5876",
   "metadata": {},
   "source": [
    "Kde nám vyšla $p-hodnota=6,598e^{-13}$, čo je oveľa menej ako $0,05$. Takže zamietame náš predpoklad a pravdepodobnosti víťazstva setov nebudú $0,5$."
   ]
  },
  {
   "cell_type": "markdown",
   "id": "38cecaf8",
   "metadata": {},
   "source": [
    "#### 2. metóda\n",
    "\n",
    "V druhej metóde postupujeme analogicky. Stále platia vzťahy pre $R_{2,2}(p)$ a $R_{2,3}(p)$. Vierohodnostná funkcia sa tiež nemení. Opäť zlogaritmujeme a zderivujeme a jej deriváciu porovnáme s $0$ nasledovne: $$p^2-p+\\frac{n_2}{2(n_1+n_2)}=0\\Rightarrow p^2-p+\\frac{16}{2(90+16)}=0 .$$ Riešením kvadratickej rovnice je: $\\hat{p_1}=p=0,9178$ a $\\hat{p_2}=q=0,0822$.\n",
    "\n",
    "Môžeme nájsť maximum pomocou funkcie v $R-studiu$:"
   ]
  },
  {
   "cell_type": "code",
   "execution_count": 6,
   "id": "455b9eb8",
   "metadata": {},
   "outputs": [
    {
     "data": {
      "text/html": [
       "<dl>\n",
       "\t<dt>$maximum</dt>\n",
       "\t\t<dd>0.917767296503833</dd>\n",
       "\t<dt>$objective</dt>\n",
       "\t\t<dd>-44.9802540927493</dd>\n",
       "</dl>\n"
      ],
      "text/latex": [
       "\\begin{description}\n",
       "\\item[\\$maximum] 0.917767296503833\n",
       "\\item[\\$objective] -44.9802540927493\n",
       "\\end{description}\n"
      ],
      "text/markdown": [
       "$maximum\n",
       ":   0.917767296503833\n",
       "$objective\n",
       ":   -44.9802540927493\n",
       "\n",
       "\n"
      ],
      "text/plain": [
       "$maximum\n",
       "[1] 0.9177673\n",
       "\n",
       "$objective\n",
       "[1] -44.98025\n"
      ]
     },
     "metadata": {},
     "output_type": "display_data"
    }
   ],
   "source": [
    "h<-function(x) 90*log(x^2+(1-x)^2)+16*log(2*x*(1-x))\n",
    "optimize(h,c(0,1),maximum=TRUE)"
   ]
  },
  {
   "cell_type": "markdown",
   "id": "9f75adee",
   "metadata": {},
   "source": [
    "Vyšlo maximum rovné $p=max=0,9178$. Zhoduje sa to s výsledkom, ktorý sme získali riešením kvadratickej rovnice. Vieme povedať, že $q=1-p=1-0,9178=0,0822$. Novovypočítané $p$ a $q$ dosadíme do rovníc na výpočet pravdepodobnosti, že pri zápase na dva víťazné sety sa odohrajú 2 sety $R_{2,2}(p)$ a tiež pravdepodobnosť, že pri zápase na dva víťazné sety sa odohrajú 3 sety $R_{2,3}(p)$.\n",
    "\n",
    "Výpočet: $$R_{2,2}(p)=0,9178^2+0,0822^2=0,849,$$ $$R_{2,3}(p)=2\\cdot0,9178\\cdot0,0822=0,151.$$ Ako môžeme vidieť, výpočty sa zhodujú s výpočtami v piatom stĺpci v Tab.2. Takže daná metóda je vhodná na zistenie parametru $p$ (pravdepodobnosti víťazstva silnejšej hráčky)."
   ]
  },
  {
   "cell_type": "markdown",
   "id": "41cc7c54",
   "metadata": {},
   "source": [
    "#### 3. metóda \n",
    "\n",
    "V tretej metóde použijeme tiež **momentovú metódu**. Snažíme sa odhadnúť parameter $p$. Vypočítali sme priemerný počet odohraných setov:$$\\bar{U}=\\frac{2\\cdot90+3\\cdot16}{106}=2,151.$$ Následne sme využili vzťah $\\mathrm{E}(U)=\\bar{U}$, kde stredná hodnota sa rovná: $\\mathrm{E}(U)=2[1+p(1-p)]=2(1+p-p^2).$ Výsledný výpočet: $$2,151=2(1+p-p^2)\\Rightarrow p^2-p+\\frac{2,151}{2}-1=0\\Rightarrow p^2-p+0,0755=0.$$ Riešením kvadratickej rovnice je $\\hat{p_1}=p=0,9178$ a $\\hat{p_2}=q=0,0822$.     \n",
    "\n",
    "Dosadením $\\hat{p_1}=p=0,9178$ a $\\hat{p_2}=q=0,0822$ do $R_{2,2}(p)$ a $R_{2,3}(p)$ získame hodnoty, ako sú v piatom stĺpci v Tab.2. Daná metóda je tiež vhodná na zistenie parametru $p$ (pravdepodobnosti víťazstva silnejšej hráčky)."
   ]
  },
  {
   "cell_type": "markdown",
   "id": "01eda5b7",
   "metadata": {},
   "source": [
    "***\n",
    "<a id=Tri_vitazne_sety></a>\n",
    "# <font color=blueviolet> Tri víťazné sety </font>\n",
    "\n",
    "\n",
    "### Vzorový príklad\n",
    "\n",
    "Autor spravil analýzu aj troch víťazných setov. Analyzoval mužský tenis presnejšie Wimbledon z roku 1877 až 1976. Postupoval veľmi podobne ako v predchádzajúcej časti, kde boli rozanalyzované dva víťazné sety. Zostavil komplexnú Tab.3, kde označenia pomenúvajú to isté. \n",
    "\n",
    "Rozdiel je len v tom, že v mužskom tenise sa hrá na tri víťazné sety, preto maximálny počet odohraných setov môže byť až 5. Pravdepodobnosť, pri hre na tri víťazné sety, ak sa odohrajú tri sety, platí:$$R_{3,3}(p)=p^3+q^3,$$ ak sa odohrajú štyri sety: $$R_{3,4}(p)=3pq(p^2+q^2),$$ ak sa odohrá päť setov: $$R_{3,5}(p)=6p^2q^2.$$ Opäť použil zopár metód na zistenie pravdepodobnosti pri hre na tri víťazné sety, ak sa odohrali 3, 4 sety alebo 5 setov."
   ]
  },
  {
   "attachments": {
    "image.png": {
     "image/png": "[encoded data removed]"
    }
   },
   "cell_type": "markdown",
   "id": "76b37a8c",
   "metadata": {},
   "source": [
    "![image.png](attachment:image.png)"
   ]
  },
  {
   "cell_type": "markdown",
   "id": "1bb46c56",
   "metadata": {},
   "source": [
    "$$\\text{Tab. 3: Dvojhra mužov}$$"
   ]
  },
  {
   "cell_type": "markdown",
   "id": "8fca0114",
   "metadata": {},
   "source": [
    "#### 1. metóda \n",
    "\n",
    "Predpoklad bol, že pravdepodobnosť víťazstva je $p=q=0,5$. Použil na to chi-kvadrát test, ktorý bol zrealizovaný v $R-studio$."
   ]
  },
  {
   "cell_type": "code",
   "execution_count": 7,
   "id": "3207b4b9",
   "metadata": {},
   "outputs": [
    {
     "data": {
      "text/plain": [
       "\n",
       "\tChi-squared test for given probabilities\n",
       "\n",
       "data:  sety\n",
       "X-squared = 28.483, df = 2, p-value = 6.531e-07\n"
      ]
     },
     "metadata": {},
     "output_type": "display_data"
    }
   ],
   "source": [
    "sety<-c(44,21,24)\n",
    "pst<-c(0.25,0.375,0.375)\n",
    "chisq.test(sety,p=pst)"
   ]
  },
  {
   "cell_type": "markdown",
   "id": "8f809bec",
   "metadata": {},
   "source": [
    "Pretože $p-hodnota=6.531e^{-07}$, čo je oveľa menej ako $0,05$, tak predpoklad zamietame."
   ]
  },
  {
   "cell_type": "markdown",
   "id": "8b8f090a",
   "metadata": {},
   "source": [
    "#### 2. metóda\n",
    "\n",
    "V tejto metóde autor využil opäť vierohodnostnú funkciu, ktorá sa riadi multinomickým rozdelením. Má nasledujúci tvar: $$f(n_1,n_2,n_3;p)=\\frac{n!}{n_1!n_2!n_3!}[R_{3,3}(p)]^{n_1}[R_{3,4}(p)]^{n_2}[R_{3,5}(p)]^{n_3},$$ jej logaritmus je: $$L(p)=\\ln f(n_1,n_2,n_3;p)=\\ln \\frac{n!}{n_1!n_2!n_3!}+n_1\\ln [R_{3,3}(p)]+n_2\\ln [R_{3,4}(p)]+n_3\\ln [R_{3,5}(p)].$$ Na hľadanie maximá použijeme funkciu, príkaz v $R-studio$. Keďže hľadáme maximum, tak konštanta $\\ln\\frac{n!}{n_1!n_2!n_3!}$ nezohráva žiadnu úlohu, preto to môžeme vynechať pri výpočte."
   ]
  },
  {
   "cell_type": "code",
   "execution_count": 9,
   "id": "f2139d7f",
   "metadata": {},
   "outputs": [
    {
     "data": {
      "text/html": [
       "<dl>\n",
       "\t<dt>$maximum</dt>\n",
       "\t\t<dd>0.75044109574081</dd>\n",
       "\t<dt>$objective</dt>\n",
       "\t\t<dd>-95.6751236524786</dd>\n",
       "</dl>\n"
      ],
      "text/latex": [
       "\\begin{description}\n",
       "\\item[\\$maximum] 0.75044109574081\n",
       "\\item[\\$objective] -95.6751236524786\n",
       "\\end{description}\n"
      ],
      "text/markdown": [
       "$maximum\n",
       ":   0.75044109574081\n",
       "$objective\n",
       ":   -95.6751236524786\n",
       "\n",
       "\n"
      ],
      "text/plain": [
       "$maximum\n",
       "[1] 0.7504411\n",
       "\n",
       "$objective\n",
       "[1] -95.67512\n"
      ]
     },
     "metadata": {},
     "output_type": "display_data"
    }
   ],
   "source": [
    "h<-function(x) 44*log(x^3+(1-x)^3)+21*log(3*x*(1-x)*(x^2+(1-x)^2))+\n",
    "+24*log(6*x^2*(1-x)^2)\n",
    "optimize(h,c(0.5,1),maximum=TRUE)"
   ]
  },
  {
   "cell_type": "markdown",
   "id": "894d7219",
   "metadata": {},
   "source": [
    "Takže maximum funkcie $h(p)$ je $\\hat{p_1}=p=0,75044$ a $\\hat{p_2}=q=0,24956$. Overíme chi-kvadrát testom hodnotu, ktorá nám vyšla."
   ]
  },
  {
   "cell_type": "code",
   "execution_count": 10,
   "id": "ffcf1b33",
   "metadata": {},
   "outputs": [
    {
     "data": {
      "text/plain": [
       "\n",
       "\tChi-squared test for given probabilities\n",
       "\n",
       "data:  sety\n",
       "X-squared = 5.5022, df = 2, p-value = 0.06386\n"
      ]
     },
     "metadata": {},
     "output_type": "display_data"
    },
    {
     "data": {
      "text/html": [
       "0.018992564787382"
      ],
      "text/latex": [
       "0.018992564787382"
      ],
      "text/markdown": [
       "0.018992564787382"
      ],
      "text/plain": [
       "[1] 0.01899256"
      ]
     },
     "metadata": {},
     "output_type": "display_data"
    }
   ],
   "source": [
    "sety<-c(44,21,24)\n",
    "pst<-c(0.4382,0.3514,0.2104)\n",
    "chisq.test(sety,p=pst)\n",
    "1-pchisq(5.5022,1)"
   ]
  },
  {
   "cell_type": "markdown",
   "id": "e741cc41",
   "metadata": {},
   "source": [
    "Výsledná $p-hodnota=0,0189$, čo je menej ako hladina významnosti, ktorá je $0,05$. Takže ani táto metóda, tento model analyzovania nie je správny. Nemôžeme ho akceptovať. "
   ]
  },
  {
   "cell_type": "markdown",
   "id": "ca510bac",
   "metadata": {},
   "source": [
    "#### 3. metóda\n",
    "\n",
    "Autor zistil, že pri troch víťazných setov musí použiť až túto tretiu metódu. Táto metóda je založená na priemernom počte setov $\\bar{U}$ a na strednej hodnote počtu setov $\\mathrm{E}(U)$. Priemerný počet setov vypočítame nasledovne: $$\\bar{U}=\\frac{3\\cdot44+4\\cdot21+5\\cdot24}{89}=3,7753.$$ Strednú hodnotu z počtu setov vypočítame nasledovne: $$\\mathrm{E}(U)=3(1+p+p^2-4p^3+2p^4).$$ Vieme, že platí $\\bar{U}=\\mathrm{E}(U)$, preto dostávame rovnicu: $$3(1+p+p^2-4p^3+2p^4)=3,7753.$$ Následne nájdeme korene danej rovnice, ktoré vyšli  $\\hat{p_1}=0,7493$ a $\\hat{p_2}=0,2507$, ktoré dávajú v súčte $1$. Ďalšie korene tejto rovnice sú $\\hat{p_3}=-0,4684$ a $\\hat{p_4}=1,4684$, ktoré tiež v súčte dávajú súčet $1$. Keďže pravdepodobnosť nemôže byť väčšia ako $1$, nami vyhovujúcim riešením je prvá dvojica: $\\hat{p_1}=p=0,7493$ a $\\hat{p_2}=q=0,2507$.   \n",
    "\n",
    "Teraz dosadíme tieto hodnoty do $R_{3,3}(p)$, $R_{3,4}(p)$ a $R_{3,5}(p)$. $$R_{3,3}(p)=0,7493^3+0,2507^3=0,436,$$ $$R_{3,4}(p)=3\\cdot0,7493\\cdot0,2507\\cdot(0,7493^2+0,2507^2)=0,351,$$ $$R_{3,5}(p)=6\\cdot0,7493^2\\cdot0,2507^2=0,217.$$ Zistíme, že sa zhodujú s piatym stĺpcom v Tab.3. Posledná metóda zistenia pravdepodobnosti víťazstva v zápase silnejšieho hráča je najpresnejšia."
   ]
  },
  {
   "cell_type": "markdown",
   "id": "06d0e112",
   "metadata": {},
   "source": [
    "### Náš príklad \n",
    "\n",
    "Inšpirovali sme sa vzorovým príkladom. Našli sme dáta z mužských zápasov v tenise. Zápasy boli odohrané v súťaži Wimbledon v roku 2022. Postupovali sme podľa vzorového príkladu, ale mali sme viac zápasov. Opäť sme vytvorili komplexnú Tab.4. Štruktúrou je rovnaká ako predošlé. Zadali sme tam nami získané dáta."
   ]
  },
  {
   "attachments": {
    "image.png": {
     "image/png": "[encoded data removed]"
    }
   },
   "cell_type": "markdown",
   "id": "f3cf6654",
   "metadata": {},
   "source": [
    "![image.png](attachment:image.png)"
   ]
  },
  {
   "cell_type": "markdown",
   "id": "707006e9",
   "metadata": {},
   "source": [
    "$$\\text{Tab. 4: Dvojhra mužov (Wimbledon 2022)}$$"
   ]
  },
  {
   "cell_type": "markdown",
   "id": "a343d7ea",
   "metadata": {},
   "source": [
    "Opäť sme analyzovali dáta tromi metódami."
   ]
  },
  {
   "cell_type": "markdown",
   "id": "76d9f731",
   "metadata": {},
   "source": [
    "#### 1. metóda \n",
    "\n",
    "Položili sme pravdepodobnosť víťazstva $p=q=0,5$. Otestovali sme náš predpoklad pomocou chi-kvadrátu testu v $R-studiu$."
   ]
  },
  {
   "cell_type": "code",
   "execution_count": 11,
   "id": "e2454524",
   "metadata": {},
   "outputs": [
    {
     "data": {
      "text/plain": [
       "\n",
       "\tChi-squared test for given probabilities\n",
       "\n",
       "data:  sety\n",
       "X-squared = 47.599, df = 2, p-value = 4.612e-11\n"
      ]
     },
     "metadata": {},
     "output_type": "display_data"
    }
   ],
   "source": [
    "sety<-c(66,35,28)\n",
    "pst<-c(0.25,0.375,0.375)\n",
    "chisq.test(sety,p=pst)"
   ]
  },
  {
   "cell_type": "markdown",
   "id": "4234fd57",
   "metadata": {},
   "source": [
    "Kde $p-hodnota$ je rovná $4.612e^{-11}$, čo je oveľa menej ako $0,05$. Náš predpoklad musíme zamietnuť ako vo vzorovom príklade. "
   ]
  },
  {
   "cell_type": "markdown",
   "id": "73d2bb38",
   "metadata": {},
   "source": [
    "#### 2. metóda \n",
    "\n",
    "Použijeme rovnakú vierohodnostnú funkciu, jej logaritmus je:$$L(p)=\\ln f(n_1,n_2,n_3;p)=\\ln \\frac{n!}{n_1!n_2!n_3!}+n_1\\ln [R_{3,3}(p)]+n_2\\ln [R_{3,4}(p)]+n_3\\ln [R_{3,5}(p)].$$ Konštantu opäť vynecháme, je v tomto kontexte nepodstatná. Hľadáme maximum pomocou funkcie v $R-studio$: "
   ]
  },
  {
   "cell_type": "code",
   "execution_count": 12,
   "id": "607db49e",
   "metadata": {},
   "outputs": [
    {
     "data": {
      "text/html": [
       "<dl>\n",
       "\t<dt>$maximum</dt>\n",
       "\t\t<dd>0.775259141032428</dd>\n",
       "\t<dt>$objective</dt>\n",
       "\t\t<dd>-134.198252850354</dd>\n",
       "</dl>\n"
      ],
      "text/latex": [
       "\\begin{description}\n",
       "\\item[\\$maximum] 0.775259141032428\n",
       "\\item[\\$objective] -134.198252850354\n",
       "\\end{description}\n"
      ],
      "text/markdown": [
       "$maximum\n",
       ":   0.775259141032428\n",
       "$objective\n",
       ":   -134.198252850354\n",
       "\n",
       "\n"
      ],
      "text/plain": [
       "$maximum\n",
       "[1] 0.7752591\n",
       "\n",
       "$objective\n",
       "[1] -134.1983\n"
      ]
     },
     "metadata": {},
     "output_type": "display_data"
    }
   ],
   "source": [
    "h<-function(x) 66*log(x^3+(1-x)^3)+35*log(3*x*(1-x)*(x^2+(1-x)^2))+\n",
    "+28*log(6*x^2*(1-x)^2)\n",
    "optimize(h,c(0.5,1),maximum=TRUE)"
   ]
  },
  {
   "cell_type": "markdown",
   "id": "9e08d423",
   "metadata": {},
   "source": [
    "Takže maximum funkcie $h(p)$ je $\\hat{p_1}=p=0.7752$ a $\\hat{p_2}=q=0,2248$. Overíme chi-kvadrát testom výsledok nasledovne:"
   ]
  },
  {
   "cell_type": "code",
   "execution_count": 13,
   "id": "0a386784",
   "metadata": {},
   "outputs": [
    {
     "data": {
      "text/plain": [
       "\n",
       "\tChi-squared test for given probabilities\n",
       "\n",
       "data:  sety\n",
       "X-squared = 2.9985, df = 2, p-value = 0.2233\n"
      ]
     },
     "metadata": {},
     "output_type": "display_data"
    },
    {
     "data": {
      "text/html": [
       "0.018992564787382"
      ],
      "text/latex": [
       "0.018992564787382"
      ],
      "text/markdown": [
       "0.018992564787382"
      ],
      "text/plain": [
       "[1] 0.01899256"
      ]
     },
     "metadata": {},
     "output_type": "display_data"
    }
   ],
   "source": [
    "sety<-c(66,35,28)\n",
    "pst<-c(0.4772,0.3406,0.1822)\n",
    "chisq.test(sety,p=pst)\n",
    "1-pchisq(5.5022,1)"
   ]
  },
  {
   "cell_type": "markdown",
   "id": "d5fb4c27",
   "metadata": {},
   "source": [
    "Výsledná $p-hodnota=0,0833$, čo je mierne viac ako hladina významnosti, ktorá je $0,05$. Takže môžeme považovať túto metódu, tento model analyzovania za správny. I keď to je len $0,0333$ nad $0,05$. Takže je tento model lepší ako prvý, ale stále nemusí byť najlepší, čo si ukážeme na treťom modeli."
   ]
  },
  {
   "cell_type": "markdown",
   "id": "4ad3937c",
   "metadata": {},
   "source": [
    "#### 3. metóda\n",
    "\n",
    "Táto metóda, ako bolo už spomenuté, je založená na priemernom počte setov $\\bar{U}$ a na strednej hodnote počtu setov $\\mathrm{E}(U)$. Priemerný počet setov je:$$\\bar{U}=\\frac{3\\cdot66+4\\cdot35+5\\cdot28}{125}=3,824.$$ Dáme do rovnosti strednú hodnotu počtu setov a priemerný počet setov: $\\bar{U}=\\mathrm{E}(U)$, preto dostávame rovnicu: $$3(1+p+p^2-4p^3+2p^4)=3,824.$$ Koreňmi tejto rovnice sú opäť dve dvojice, ktoré v súčte dávajú $1$: $\\hat{p_1}=0,7669$ a $\\hat{p_2}=0,2331$   \n",
    "\n",
    "Ďalšími koreňmi rovnice sú $\\hat{p_3}=-0,4637$ a $\\hat{p_4}=1,4637$. Keďže pravdepodobnosť nemôže byť väčšia ako $1$, nami vyhovujúcim riešením je prvá dvojica.  \n",
    "\n",
    "Teraz dosadíme tieto hodnoty do $R_{3,3}(p)$, $R_{3,4}(p)$ a $R_{3,5}(p)$. \n",
    "$$R_{3,3}(p)=0,7669^3+0,2331^3=0,4637,$$ $$R_{3,4}(p)=3\\cdot0,7669\\cdot0,2331\\cdot(0,7669^2+0,2331^2)=0,3445,$$ $$R_{3,5}(p)=6\\cdot0,7669^2\\cdot0,2331^2=0,1914.$$ Zistíme, že sa zhodujú s piatym stĺpcom v Tab.4. Posledná metóda zistenia pravdepodobnosti víťazstva v zápase silnejšieho hráča je najpresnejšia."
   ]
  },
  {
   "cell_type": "markdown",
   "id": "ed7a95ff",
   "metadata": {},
   "source": [
    "***\n",
    "<a id=Záver></a>\n",
    "# <font color=blueviolet> Záver </font>\n",
    "\n",
    "\n",
    "### Zhodnotenie problematiky\n",
    "\n",
    "Analyzovali sme zápasy z Wimbledonu z roku 2022. Analyzovali sme najprv ženské zápasy podľa vzorového príkladu, ktorý bol v knihe Statistické úlohy, historky a paradoxy od \\citep{Andel}. Použili sme tri metódy, vďaka ktorým sme overovali, či naše predpoklady boli správne. Zistili sme, že prvá metóda aj vo vzorovom aj v našom príklade vyvrátila náš predpoklad. Takže pravdepodobnosť víťazstva setu silnejšej hráčky alebo silnejšieho hráča nie je 50 \\%, čo sme si overili pomocou chi-kvadrát testu. \n",
    "\n",
    "Vďaka druhej metóde, ktorá bola založená na vierohodnostnej funkcii, sme ukázali, že pri dvoch víťazných setov je to správna metóda. Logaritmovaním a následným derivovaním sme hľadali maximum vierohodnostnej funkcie. Našli sme presnú hodnotu parametra $p$ ženských zápasoch. Pri analyzovaní mužských zápasoch sa nám čiastočne rozišli výsledky so vzorovým príkladom. Ale stále je to v intervale tolerancie. \n",
    "\n",
    "Tretia metóda bola najspoľahlivejšia. Nazýva sa tiež momentová metóda. Pomocou nej nám vyšiel parameter $p$ veľmi presne aj v ženských, aj v mužských zápasoch. \n",
    "\n",
    "Z každej metódy sme pomocou rôznych parametrov $p$ vedeli vypočítať hľadanú pravdepodobnosť pri dvoch víťazných setoch, ak boli odohrané dva alebo tri sety. To isté platí aj pre mužské zápasy. Hľadali sme pravdepodobnosť pri troch víťazných setoch, ak boli odohrané tri, štyri sety alebo päť setov. "
   ]
  },
  {
   "cell_type": "markdown",
   "id": "e58bb500",
   "metadata": {},
   "source": [
    "***\n",
    "<a id=Zdroje></a>\n",
    "# <font color=blueviolet>Zdroje</font>\n",
    "\n",
    "\n",
    "### Zoznam použitej literatúry:\n",
    "\n",
    "* Anděl, J. (2018). Statistické úlohy, historky a paradoxy. Matfyzpress. Praha. \n",
    "\n",
    "* [Dáta mužského tenisu 2022](https://www.flashscore.sk/tenis/atp-dvojhry/wimbledon/vysledky/)\n",
    "\n",
    "* [Dáta ženského tenisu 2022](https://www.flashscore.sk/tenis/wta-dvojhry/wimbledon/vysledky/)"
   ]
  }
 ],
 "metadata": {
  "kernelspec": {
   "display_name": "R",
   "language": "R",
   "name": "ir"
  },
  "language_info": {
   "codemirror_mode": "r",
   "file_extension": ".r",
   "mimetype": "text/x-r-source",
   "name": "R",
   "pygments_lexer": "r",
   "version": "4.1.3"
  }
 },
 "nbformat": 4,
 "nbformat_minor": 5
}
